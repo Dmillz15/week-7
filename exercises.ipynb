{
 "cells": [
  {
   "cell_type": "markdown",
   "id": "e3aad6c5",
   "metadata": {},
   "source": [
    "<font color='darkred'> Unless otherwise noted, **this notebook will not be reviewed or autograded.**</font> You are welcome to use it for scratchwork, but **only the files listed in the exercises will be checked.**\n",
    "\n",
    "---"
   ]
  },
  {
   "cell_type": "markdown",
   "id": "ff33995d",
   "metadata": {},
   "source": [
    "# Exercises\n",
    "\n",
    "For these exercises, you'll be making adjustments to the *loader.py* file and the *test_loader.py* file. You're welcome to adjust the app.py file or the apputil.py file, but this is completely optional.\n",
    "\n",
    "Before you start this exercise, make sure you're familiar with the reading assigned in Canvas.\n",
    "\n",
    "## Exercise 1\n",
    "\n",
    "There are a few major issues with the *loader.py* file. Use the VS Code debugger to find the issues, and adjust for them appropriately (e.g., using try-except, renaming variables, rewriting code, etc.). As always, make sure your code aligns with PEP-8 as much as you can.\n"
   ]
  },
  {
   "cell_type": "markdown",
   "id": "cd44ec6a",
   "metadata": {},
   "source": [
    "## Exercise 2\n",
    "\n",
    "In the *test_loader.py* file, write a `test_valid_locations` test function to validate that the loader script correctly gathers the following known locations (gathered from [Google Maps](https://support.google.com/maps/answer/18539)):\n",
    "\n",
    "Location | Latitude | Longitude | Type\n",
    "--- | --- | --- | ---\n",
    "Museum of Modern Art | 40.7618552 | -73.9782438 | Museum\n",
    "USS Alabama Battleship Memorial Park | 30.684373 | -88.015316 | Park\n"
   ]
  },
  {
   "cell_type": "markdown",
   "id": "84d3ba51",
   "metadata": {},
   "source": [
    "## Exercise 3\n",
    "\n",
    "Location strings like *\"asdfqwer1234\"* do not exist, so they should reflect NA values for everything except the location name in the final DataFrame. For example, we *should* have the following:\n",
    "\n",
    "Location | Latitude | Longitude | Type\n",
    "--- | --- | --- | ---\n",
    "asdfqwer1234 | nan | nan | nan\n",
    "\n",
    "Notice that the `test_invalid_location` in the *test_loader.py* file is *attempting* to test for this issue, but it is not quite right. Adjust this function to ensure the output data reflects NA values as described.\n"
   ]
  },
  {
   "cell_type": "markdown",
   "id": "524a0acd",
   "metadata": {},
   "source": [
    "## Exercise 4\n",
    "\n",
    "Run your *test_loader.py* script, and make sure your *loader.py* file passes all tests."
   ]
  },
  {
   "cell_type": "markdown",
   "id": "a31fe569",
   "metadata": {},
   "source": [
    "## Bonus\n",
    "\n",
    "Notice that this loader script could be written in the form of a Python class. Adjust the code so that it uses Python classes properly."
   ]
  }
 ],
 "metadata": {
  "language_info": {
   "name": "python"
  }
 },
 "nbformat": 4,
 "nbformat_minor": 5
}
